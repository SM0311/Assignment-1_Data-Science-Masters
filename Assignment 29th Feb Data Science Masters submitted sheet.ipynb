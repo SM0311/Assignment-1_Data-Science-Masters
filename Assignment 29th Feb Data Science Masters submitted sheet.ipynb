{
 "cells": [
  {
   "cell_type": "markdown",
   "id": "7283708e-984e-4b62-a915-145dfd88511f",
   "metadata": {},
   "source": [
    "### 1. Who developed Python Programming Language?"
   ]
  },
  {
   "cell_type": "markdown",
   "id": "8213a1b3-ac4a-41db-9f02-54c74b39f336",
   "metadata": {},
   "source": [
    "## ANS-\n",
    "Guido van Rossum"
   ]
  },
  {
   "cell_type": "markdown",
   "id": "e2ebb824-d45e-4a70-b4e5-ddcb49fa519c",
   "metadata": {},
   "source": [
    "### 2. Which type of programming does Python support?"
   ]
  },
  {
   "cell_type": "markdown",
   "id": "8200e9c0-d989-4b88-b929-b852bdb7c39f",
   "metadata": {},
   "source": [
    "## ANS -\n",
    "object-oriented programming, structured programming and functional programming"
   ]
  },
  {
   "cell_type": "markdown",
   "id": "1a6aac96-32c3-4d57-9981-ee2b920ce194",
   "metadata": {},
   "source": [
    "### 3. Is Python case sensitive when dealing with identifiers ?"
   ]
  },
  {
   "cell_type": "markdown",
   "id": "6fd5c32b-86e0-4ad5-b8b9-f5f66cd522d4",
   "metadata": {},
   "source": [
    "### ANS - \n",
    "Yes"
   ]
  },
  {
   "cell_type": "markdown",
   "id": "1d7f24cc-2536-4daf-80d8-d15dcfc302bb",
   "metadata": {},
   "source": [
    "### 4. What is the correct extension of the Python file?"
   ]
  },
  {
   "cell_type": "markdown",
   "id": "bd14ca53-7426-489a-9fe4-a1eaedba01b1",
   "metadata": {},
   "source": [
    "### ANS - \n",
    ".py"
   ]
  },
  {
   "cell_type": "markdown",
   "id": "845e8aa0-5fed-45b0-b6c0-7e2d545b889c",
   "metadata": {},
   "source": [
    "### 5. Is Python code compiled or interpreted?"
   ]
  },
  {
   "cell_type": "markdown",
   "id": "e23a309c-341b-456f-aeb1-374aa44bae30",
   "metadata": {},
   "source": [
    "### ANS -\n",
    "Interpreted"
   ]
  },
  {
   "cell_type": "markdown",
   "id": "c060a50e-a17e-4bbf-a8fb-df06abcc417c",
   "metadata": {},
   "source": [
    "### 6. Name a few blocks of code used to define in Python language?  "
   ]
  },
  {
   "cell_type": "markdown",
   "id": "0422dd24-64c7-4287-8d33-7aa2bf82aad2",
   "metadata": {},
   "source": [
    "### ANS- \n",
    "a module, a function body, and a class definition"
   ]
  },
  {
   "cell_type": "markdown",
   "id": "898a9b4d-7d40-4b57-82bf-4563f2735884",
   "metadata": {},
   "source": [
    "### 7. State a character used to give single-line comments?"
   ]
  },
  {
   "cell_type": "markdown",
   "id": "4d016e23-3bc7-417c-bae9-2fda6bc2b1df",
   "metadata": {},
   "source": [
    "### ANS - \n",
    "Hash Character "
   ]
  },
  {
   "cell_type": "markdown",
   "id": "a83c5474-167d-419d-a9bc-f1fdee652913",
   "metadata": {},
   "source": [
    "### 8. Mention functions which can help us to find the version of Python that we are currently working on?"
   ]
  },
  {
   "cell_type": "markdown",
   "id": "af6989c4-c8b2-465b-93a8-b4ae9ead95d1",
   "metadata": {
    "tags": []
   },
   "source": [
    "### ANS- \n",
    "sys.version "
   ]
  },
  {
   "cell_type": "markdown",
   "id": "a8f796da-3fb1-4555-9c40-9db252c744c4",
   "metadata": {},
   "source": [
    "### 9. Python supports the cration of anonymous fuctions at runtime, using a construct called _ _ _ _ _"
   ]
  },
  {
   "cell_type": "markdown",
   "id": "a22344e4-cddf-4996-96f3-2fcefa3929bf",
   "metadata": {},
   "source": [
    "### ANS - \n",
    "lambda"
   ]
  },
  {
   "cell_type": "markdown",
   "id": "159bd0a1-1ce1-4aca-90da-693f4a98c39b",
   "metadata": {},
   "source": [
    "### 10. What does pip stand for python?"
   ]
  },
  {
   "cell_type": "markdown",
   "id": "d900a197-6c38-46e1-95ce-5028b82f33fc",
   "metadata": {},
   "source": [
    "### ANS -\n",
    "pip stands for \"preferred installer program\""
   ]
  },
  {
   "cell_type": "markdown",
   "id": "8d5334bf-7e5e-4dc8-8f6d-a94830511bf7",
   "metadata": {},
   "source": [
    "### 11. Mention a few built-in-functions in python? "
   ]
  },
  {
   "cell_type": "markdown",
   "id": "bb2177be-e9ad-42dd-9c0f-af37d4dd3111",
   "metadata": {},
   "source": [
    "### ANS -\n",
    "1. print( )function.\n",
    "2. type( )function.\n",
    "3. input( )function.\n",
    "4. abs( )function.\n",
    "5. pow( )function.\n",
    "6. dir( )function.\n",
    "7. sorted( )function.\n",
    "8. max( )function."
   ]
  },
  {
   "cell_type": "markdown",
   "id": "48b2a22e-23f3-42c9-9526-ad8d4eb478c0",
   "metadata": {},
   "source": [
    "### 12. What is the maximum possible length of an identifier in python?"
   ]
  },
  {
   "cell_type": "markdown",
   "id": "dafdb95c-c272-451e-870b-dbfd37c41074",
   "metadata": {},
   "source": [
    "### ANS -  79 Characters"
   ]
  },
  {
   "cell_type": "markdown",
   "id": "b3a56a9b-d078-4061-b8bc-d570da2d49a4",
   "metadata": {},
   "source": [
    "### 13. What are the benefits of using Python?"
   ]
  },
  {
   "cell_type": "markdown",
   "id": "408acd13-3b58-47e0-80cf-e430507be11f",
   "metadata": {},
   "source": [
    "### ANS - \n",
    "1. Data science.\n",
    "2. Scientific and mathematical computing.\n",
    "3. Web development.\n",
    "4. Finance and trading.\n",
    "5. System automation and administration.\n",
    "6. Computer graphics.\n",
    "7. Basic game development.\n",
    "8. Security and penetration testing."
   ]
  },
  {
   "cell_type": "markdown",
   "id": "7db8b3f7-36ef-4a16-ac39-92c56d1a2395",
   "metadata": {},
   "source": [
    "### 14. How is memory managed in Python?"
   ]
  },
  {
   "cell_type": "markdown",
   "id": "9b455cfc-668c-4dc0-8d96-933e5c42dac6",
   "metadata": {},
   "source": [
    "### ANS -\n",
    "Memory management in Python involves a private heap containing all Python objects and data structures. The management of this private heap is ensured internally by the Python memory manager."
   ]
  },
  {
   "cell_type": "markdown",
   "id": "7d8e82ea-f900-4c05-af2c-d835320bddb3",
   "metadata": {},
   "source": [
    "### 15. How to install python on Windows and set path variables?"
   ]
  },
  {
   "cell_type": "markdown",
   "id": "148c08b1-f08e-40e7-864a-dcba00a31732",
   "metadata": {},
   "source": [
    "### ANS -\n",
    "1. Right-clicking the PC and going to Properties.\n",
    "2. Clicking on the Advanced system settings in the menu on the left.\n",
    "3. Clicking on the Environment Variables button on the bottom right.\n",
    "4. In the System variables section, selecting the Path variable and clicking on Edit"
   ]
  },
  {
   "cell_type": "markdown",
   "id": "3c001d69-f43c-4e2c-86b4-a0b780d62a71",
   "metadata": {},
   "source": [
    "### 16. Is identation required in python?"
   ]
  },
  {
   "cell_type": "markdown",
   "id": "d5541655-64fa-4536-8924-56c01aecd4af",
   "metadata": {},
   "source": [
    "### ANS - \n",
    "Yes, Identation is very important for python."
   ]
  }
 ],
 "metadata": {
  "kernelspec": {
   "display_name": "Python 3 (ipykernel)",
   "language": "python",
   "name": "python3"
  },
  "language_info": {
   "codemirror_mode": {
    "name": "ipython",
    "version": 3
   },
   "file_extension": ".py",
   "mimetype": "text/x-python",
   "name": "python",
   "nbconvert_exporter": "python",
   "pygments_lexer": "ipython3",
   "version": "3.10.8"
  }
 },
 "nbformat": 4,
 "nbformat_minor": 5
}
